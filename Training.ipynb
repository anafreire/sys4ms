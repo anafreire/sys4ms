{
 "cells": [
  {
   "cell_type": "markdown",
   "metadata": {},
   "source": [
    "# Training"
   ]
  },
  {
   "cell_type": "markdown",
   "metadata": {},
   "source": [
    "## Training Setup"
   ]
  },
  {
   "cell_type": "code",
   "execution_count": 8,
   "metadata": {},
   "outputs": [],
   "source": [
    "# Load scikit's random forest classifier library\n",
    "from sklearn.ensemble import RandomForestClassifier\n",
    "\n",
    "# Load pandas\n",
    "import pandas as pd\n",
    "\n",
    "# Load numpy\n",
    "import numpy as np\n",
    "\n",
    "# Using Skicit-learn to split data into training and testing sets\n",
    "from sklearn.model_selection import train_test_split\n",
    "\n",
    "def training_setup (data, target):\n",
    "    # Set random seed\n",
    "    np.random.seed(0)\n",
    "\n",
    "    # Split the data into training and testing sets\n",
    "    train, test = train_test_split(data, test_size=0.2)\n",
    "\n",
    "    print('Number of observations in the training data:', len(train))\n",
    "    print('Number of observations in the test data:',len(test))\n",
    "\n",
    "    # Create a serie with the target variable\n",
    "    target = target\n",
    "\n",
    "    # Create a list of the feature column's names\n",
    "    features = [c for c in data.columns if c != target]\n",
    "    \n",
    "    return train, test, target, features\n"
   ]
  },
  {
   "cell_type": "markdown",
   "metadata": {},
   "source": [
    "## Random Forest Classifier"
   ]
  },
  {
   "cell_type": "code",
   "execution_count": 9,
   "metadata": {},
   "outputs": [],
   "source": [
    "# Import the model we are using\n",
    "from sklearn.ensemble import RandomForestRegressor\n",
    "from sklearn.model_selection import RandomizedSearchCV\n",
    "from pprint import pprint\n",
    "\n",
    "\n",
    "def training (features, target, n_iter, cv, weight=True):\n",
    "    # **********Hyperparameter tuning************** \n",
    "    \n",
    "    # Number of trees in random forest\n",
    "    n_estimators = [int(x) for x in np.linspace(start=int(len(features)/4), stop=int(len(features)/2), num=10)]\n",
    "    # Number of features to consider at every split\n",
    "    max_features = ['auto', 'sqrt']\n",
    "    # Maximum number of levels in tree\n",
    "    max_depth = [int(x) for x in np.linspace(2, 5, num = 3)]\n",
    "    #max_depth.append(None)\n",
    "    # Minimum number of samples required to split a node\n",
    "    min_samples_split = [2, 5]\n",
    "    # Minimum number of samples required at each leaf node\n",
    "    min_samples_leaf = [1, 2, 4]\n",
    "    # Method of selecting samples for training each tree\n",
    "    bootstrap = [True, False]\n",
    "    # Add weight in case of imbalance classes\n",
    "    class_weight = [\"balanced\" if weight else None]\n",
    "    #class_weight = [{0: 1, 1: w} for w in [10,20,30,50]] if weight else [None]\n",
    "    \n",
    "    # Create the random grid\n",
    "    random_grid = {'n_estimators': n_estimators,\n",
    "                   'max_features': max_features,\n",
    "                   'max_depth': max_depth,\n",
    "                   'min_samples_split': min_samples_split,\n",
    "                   'min_samples_leaf': min_samples_leaf,\n",
    "                   'bootstrap': bootstrap,\n",
    "                   'class_weight': class_weight}\n",
    "    #pprint(random_grid)\n",
    "\n",
    "\n",
    "    # Use the random grid to search for best hyperparameters\n",
    "\n",
    "    # First create the base model to tune\n",
    "    rf = RandomForestClassifier(n_estimators = 50, criterion = 'entropy',random_state=42)\n",
    "\n",
    "    # Random search of parameters, using 10 fold cross validation, \n",
    "    # search across 100 different combinations, and use all available cores\n",
    "    rf_random = RandomizedSearchCV(estimator = rf, param_distributions = random_grid, n_iter = n_iter, cv = cv, \n",
    "                                   verbose=1, random_state=42, n_jobs = -1)\n",
    "\n",
    "    # Train the model on training data\n",
    "    trained_model = rf_random.fit(features, target);\n",
    "\n",
    "    # Look at parameters used by our current forest\n",
    "    #pprint(rf_random.best_estimator_.get_params())\n",
    "    \n",
    "    return trained_model\n",
    "    "
   ]
  },
  {
   "cell_type": "markdown",
   "metadata": {},
   "source": [
    "# Testing"
   ]
  },
  {
   "cell_type": "code",
   "execution_count": 10,
   "metadata": {},
   "outputs": [],
   "source": [
    "def testing (trained_model, testset):\n",
    "    # Apply the Classifier we trained to the test data (which, remember, it has never seen before)\n",
    "    predictions = trained_model.predict(testset)\n",
    "    \n",
    "    return predictions"
   ]
  },
  {
   "cell_type": "markdown",
   "metadata": {},
   "source": [
    "# Prediction"
   ]
  },
  {
   "cell_type": "markdown",
   "metadata": {},
   "source": [
    "## Random Forest Prediction (with PCA)"
   ]
  },
  {
   "cell_type": "code",
   "execution_count": 16,
   "metadata": {},
   "outputs": [],
   "source": [
    "def RF_prediction_PCA (df_full, outcome, iterations, weight):\n",
    "\n",
    "    %run Training.ipynb\n",
    "\n",
    "    # Create a list of the feature column's names\n",
    "    features = [c for c in df_full.columns if c != outcome]\n",
    "    print('***** Features dimension before PCA:', df_full.shape)\n",
    "    \n",
    "    #PCA\n",
    "    pca = PCA(0.99)\n",
    "    X_PCA = pca.fit_transform(df_full[features])\n",
    "    print('***** Features dimension after PCA:', X_PCA.shape)\n",
    "\n",
    "    # Find the best model with CV and RandomSearch of a list of parameters\n",
    "    min_class_size = min(df_full[df_full[outcome]==1].shape[0], df_full[df_full[outcome]==0].shape[0])\n",
    "    cv_group = int(min(10, min_class_size/2))\n",
    "\n",
    "    print(\"***** Using number of CV:\", cv_group)\n",
    "    search_model = training(X_PCA, df_full[outcome], 50, cv=cv_group, weight = True)\n",
    "\n",
    "\n",
    "    best_model = search_model.best_estimator_\n",
    "    print(\"***** Best CV model:\", search_model.best_params_)\n",
    "    print(\"with CV score: %.3f\" %search_model.best_score_)\n",
    "\n",
    "    y_pred_roc = cross_val_predict(best_model, X_PCA, df_full[outcome], cv=cv_group, method='predict_proba')\n",
    "     \n",
    "    y_pred_raw = cross_val_predict(best_model, X_PCA, df_full[outcome], cv=cv_group)\n",
    "    y_pred = pd.DataFrame(y_pred_raw, index=df_full[outcome].index)\n",
    "    \n",
    "    confusion_matrix(df_full[outcome], y_pred)\n",
    "\n",
    "    classification_rep = classification_report(df_full[outcome], y_pred, target_names=[\"0\", \"1\"])\n",
    "    print(classification_rep)\n",
    "    \n",
    "    precision = round(precision_score(df_full[outcome], y_pred, average='weighted'), 2)\n",
    "    recall= round(recall_score(df_full[outcome], y_pred, average='weighted'), 2)\n",
    "    f1 = round(f1_score(df_full[outcome], y_pred, average='weighted'), 2)\n",
    "    \n",
    "    tn, fp, fn, tp = confusion_matrix(df_full[outcome], y_pred).ravel()\n",
    "    \n",
    "    valid = \"VALID\"\n",
    "    if tn==0 or tp == 0:\n",
    "        valid = \"INVALID\"\n",
    "    \n",
    "    return (precision, recall, f1, classification_rep, X_PCA.shape[1], valid, [df_full[outcome], y_pred_roc[:,1]])"
   ]
  },
  {
   "cell_type": "markdown",
   "metadata": {},
   "source": [
    "## Random Forest Prediction (NO PCA)"
   ]
  },
  {
   "cell_type": "code",
   "execution_count": 17,
   "metadata": {},
   "outputs": [],
   "source": [
    "def RF_prediction (df_full, outcome, iterations, weight, combination):\n",
    "    \n",
    "    %run Training.ipynb\n",
    "\n",
    "    # Create a list of the feature column's names\n",
    "    features = [c for c in df_full.columns if c != outcome]\n",
    "\n",
    "    # Find the best model with CV and RandomSearch of a list of parameters\n",
    "    min_class_size = min(df_full[df_full[outcome]==1].shape[0], df_full[df_full[outcome]==0].shape[0])\n",
    "    cv_group = int(min(10, min_class_size/2))\n",
    "\n",
    "    print(\"***** Using number of CV:\", cv_group)\n",
    "    search_model = training(df_full[features], df_full[outcome], 50, cv=cv_group, weight = True)\n",
    "\n",
    "\n",
    "    best_model = search_model.best_estimator_\n",
    "    print(\"***** Best CV model:\", search_model.best_params_)\n",
    "    print(\"with CV score: %.3f\" %search_model.best_score_)\n",
    "\n",
    "    y_pred_roc = cross_val_predict(best_model, df_full[features], df_full[outcome], cv=cv_group, method='predict_proba')\n",
    "    \n",
    "    y_pred_raw = cross_val_predict(best_model, df_full[features], df_full[outcome], cv=cv_group)\n",
    "    y_pred = pd.DataFrame(y_pred_raw, index=df_full[outcome].index)\n",
    "\n",
    "    confusion_matrix(df_full[outcome], y_pred)\n",
    "    \n",
    "    # FEATURE RANKING\n",
    "    feature_ranking_top (best_model, features, outcome, combination)\n",
    "\n",
    "    classification_rep = classification_report(df_full[outcome], y_pred, target_names=[\"0\", \"1\"])\n",
    "    print(classification_rep)\n",
    "    \n",
    "    precision = round(precision_score(df_full[outcome], y_pred, average='weighted'), 2)\n",
    "    recall= round(recall_score(df_full[outcome], y_pred, average='weighted'), 2)\n",
    "    f1 = round(f1_score(df_full[outcome], y_pred, average='weighted'), 2)\n",
    "    \n",
    "    tn, fp, fn, tp = confusion_matrix(df_full[outcome], y_pred).ravel()\n",
    "\n",
    "    valid = \"VALID\"\n",
    "    if tn==0 or tp == 0:\n",
    "        valid = \"INVALID\"\n",
    "        \n",
    "\n",
    "    return (precision, recall, f1, classification_rep, valid,[df_full[outcome], y_pred_roc[:,1]])\n",
    "    "
   ]
  }
 ],
 "metadata": {
  "kernelspec": {
   "display_name": "Python 3",
   "language": "python",
   "name": "python3"
  },
  "language_info": {
   "codemirror_mode": {
    "name": "ipython",
    "version": 3
   },
   "file_extension": ".py",
   "mimetype": "text/x-python",
   "name": "python",
   "nbconvert_exporter": "python",
   "pygments_lexer": "ipython3",
   "version": "3.7.7"
  }
 },
 "nbformat": 4,
 "nbformat_minor": 4
}
