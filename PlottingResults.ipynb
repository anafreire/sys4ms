{
 "cells": [
  {
   "cell_type": "markdown",
   "metadata": {},
   "source": [
    "# Plotting Results"
   ]
  },
  {
   "cell_type": "markdown",
   "metadata": {},
   "source": [
    "## Feature Ranking"
   ]
  },
  {
   "cell_type": "code",
   "execution_count": 11,
   "metadata": {},
   "outputs": [],
   "source": [
    "def feature_ranking (model, trainset, features):\n",
    "    importances = model.feature_importances_\n",
    "    std = np.std([tree.feature_importances_ for tree in model.estimators_], axis=0)\n",
    "    indices = np.argsort(importances)[::-1]\n",
    "    labels = [features[i] for i in indices]\n",
    "\n",
    "    # Print the feature ranking\n",
    "    print(\"Feature ranking:\")\n",
    "\n",
    "    for f in range(trainset[features].shape[1]):\n",
    "        print(\"%d. %s (%f)\" % (f + 1, labels[f], importances[indices[f]]))\n",
    "\n",
    "    # Plot the feature importance of the forest\n",
    "    plt.figure(figsize=(20,10))\n",
    "    plt.grid()\n",
    "    plt.title(\"Feature importances\")\n",
    "    plt.bar(range(trainset[features].shape[1]), importances[indices],color=\"g\", yerr=std[indices], align=\"center\")\n",
    "    plt.xticks(range(trainset[features].shape[1]), labels, rotation='vertical')\n",
    "    plt.xlim([-1, trainset[features].shape[1]])\n",
    "    plt.show()\n",
    "    "
   ]
  },
  {
   "cell_type": "code",
   "execution_count": 12,
   "metadata": {},
   "outputs": [],
   "source": [
    "def feature_ranking_top (model, features, outcome, combination):\n",
    "    feat_renamed = list(features[:])\n",
    "    feat_renamed = map(lambda foo: foo.replace('CD4+ CD25+ CD127- (Total Treg)', \"Total Treg\"), feat_renamed)\n",
    "    feat_renamed = map(lambda foo: foo.replace('CD19+ CD24high CD38-(B Memory Atypical)', \"B Memory Atypical\"), feat_renamed)\n",
    "    feat_importances = pd.Series(model.feature_importances_, index=feat_renamed)\n",
    "    fig = plt.figure(figsize=(7.02,5), dpi=300)\n",
    "    feat_importances.nlargest(10).plot(kind='barh', color=\"gray\", fontsize=12)\n",
    "    plt.gca().invert_yaxis()\n",
    "    plt.xlabel(\"Feature Importance\", fontsize=12)\n",
    "    plt.title(outcome + \"=>\" + combination, fontsize=12)\n",
    "    plt.show()\n",
    "    #Save to TIFF\n",
    "    from PIL import Image\n",
    "    from io import BytesIO\n",
    "\n",
    "    # (1) save the image in memory in PNG format\n",
    "    png1 = BytesIO()\n",
    "    fig.savefig(png1, format='png',bbox_inches='tight')\n",
    "\n",
    "    # (2) load this image into PIL\n",
    "    png2 = Image.open(png1)\n",
    "\n",
    "    # (3) save as TIFF\n",
    "    print (combination)\n",
    "    name = outcome + \" \" + combination\n",
    "    png2.save(name + '.tiff')\n",
    "    png1.close()\n",
    "    "
   ]
  },
  {
   "cell_type": "code",
   "execution_count": null,
   "metadata": {},
   "outputs": [],
   "source": []
  }
 ],
 "metadata": {
  "kernelspec": {
   "display_name": "Python 3",
   "language": "python",
   "name": "python3"
  },
  "language_info": {
   "codemirror_mode": {
    "name": "ipython",
    "version": 3
   },
   "file_extension": ".py",
   "mimetype": "text/x-python",
   "name": "python",
   "nbconvert_exporter": "python",
   "pygments_lexer": "ipython3",
   "version": "3.7.7"
  }
 },
 "nbformat": 4,
 "nbformat_minor": 4
}
